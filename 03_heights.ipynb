{
 "cells": [
  {
   "cell_type": "code",
   "execution_count": 1,
   "metadata": {},
   "outputs": [],
   "source": [
    "# Step 0. Import libraries, custom modules and logging\n",
    "# Basics ---------------------------------------------------------------\n",
    "import logging\n",
    "import joblib\n",
    "# Data -----------------------------------------------------------------\n",
    "import pandas as pd\n",
    "import numpy as np\n",
    "# Graphics -------------------------------------------------------------\n",
    "import matplotlib.pyplot as plt\n",
    "import seaborn as sns"
   ]
  },
  {
   "cell_type": "code",
   "execution_count": 1,
   "metadata": {},
   "outputs": [
    {
     "ename": "NameError",
     "evalue": "name 'logging' is not defined",
     "output_type": "error",
     "traceback": [
      "\u001b[0;31m---------------------------------------------------------------------------\u001b[0m",
      "\u001b[0;31mNameError\u001b[0m                                 Traceback (most recent call last)",
      "Cell \u001b[0;32mIn[1], line 14\u001b[0m\n\u001b[1;32m     12\u001b[0m \u001b[38;5;28;01mfrom\u001b[39;00m \u001b[38;5;21;01msklearn\u001b[39;00m\u001b[38;5;21;01m.\u001b[39;00m\u001b[38;5;21;01minspection\u001b[39;00m \u001b[38;5;28;01mimport\u001b[39;00m permutation_importance\n\u001b[1;32m     13\u001b[0m \u001b[38;5;66;03m# Logging initialization -----------------------------------------------\u001b[39;00m\n\u001b[0;32m---> 14\u001b[0m logger \u001b[38;5;241m=\u001b[39m \u001b[43mlogging\u001b[49m\u001b[38;5;241m.\u001b[39mgetLogger()\n\u001b[1;32m     15\u001b[0m logger\u001b[38;5;241m.\u001b[39msetLevel(logging\u001b[38;5;241m.\u001b[39mINFO)\n",
      "\u001b[0;31mNameError\u001b[0m: name 'logging' is not defined"
     ]
    }
   ],
   "source": [
    "# Machine learning -----------------------------------------------------\n",
    "from sklearn.model_selection import train_test_split\n",
    "from sklearn.linear_model import LogisticRegression\n",
    "from sklearn.pipeline import Pipeline\n",
    "from sklearn.compose import ColumnTransformer\n",
    "from sklearn.metrics import (accuracy_score, \n",
    "                             f1_score,\n",
    "                             ConfusionMatrixDisplay,\n",
    "                             RocCurveDisplay,\n",
    "                             DetCurveDisplay)\n",
    "from sklearn.preprocessing import LabelEncoder\n",
    "from sklearn.inspection import permutation_importance\n",
    "# Logging initialization -----------------------------------------------\n",
    "logger = logging.getLogger()\n",
    "logger.setLevel(logging.INFO)"
   ]
  },
  {
   "cell_type": "code",
   "execution_count": null,
   "metadata": {},
   "outputs": [],
   "source": [
    "# Step 1. Load data and get a first view -------------------------------\n",
    "# 1.1 Read from source and get basic info\n",
    "df_raw = pd.read_csv('heights.csv')\n",
    "df_raw.info()"
   ]
  },
  {
   "cell_type": "code",
   "execution_count": null,
   "metadata": {},
   "outputs": [],
   "source": [
    "# 1.2 Get a sample\n",
    "display(df_raw.sample(5, random_state=66))"
   ]
  },
  {
   "cell_type": "code",
   "execution_count": 5,
   "metadata": {},
   "outputs": [],
   "source": [
    "# Step 2. Prepara the dataset for analysis\n",
    "# 2.1 Make transformations using a pipeline\n",
    "df_interim = (\n",
    "    df_raw\n",
    "    .copy()\n",
    "    .set_axis(\n",
    "        df_raw.columns.str.replace(' ','_')\n",
    "        .str.replace(r'\\W','',regex=True)\n",
    "        .str.lower()\n",
    "        .str.slice(0,40), axis=1\n",
    "    )\n",
    "    .rename(columns={'sex':'target'})\n",
    "    .astype({'target': \"category\"})\n",
    "    .iloc[:,1:3]\n",
    ")"
   ]
  },
  {
   "cell_type": "code",
   "execution_count": null,
   "metadata": {},
   "outputs": [],
   "source": [
    "# 2.2 Create the final dataset with the target in front, show result\n",
    "df = (\n",
    "    df_interim\n",
    "    .copy()\n",
    "    .reindex(\n",
    "        columns=(\n",
    "            ['target'] + \n",
    "            [c for c in df_interim.columns.to_list() if c not in ['target']]\n",
    "        )\n",
    "    )\n",
    ")\n",
    "df.info()"
   ]
  },
  {
   "cell_type": "code",
   "execution_count": null,
   "metadata": {},
   "outputs": [],
   "source": [
    "# Step 3. Perform EDA\n",
    "# 3.1 Split the dataset\n",
    "df_train, df_test = train_test_split(df, \n",
    "                                     random_state=2024, \n",
    "                                     test_size=0.2,\n",
    "                                     stratify=df[\"target\"])\n",
    "df_train.info()\n"
   ]
  },
  {
   "cell_type": "code",
   "execution_count": null,
   "metadata": {},
   "outputs": [],
   "source": [
    "display(df_train.describe().T)\n",
    "display(df_train.describe(include= \"category\").T)"
   ]
  },
  {
   "cell_type": "code",
   "execution_count": null,
   "metadata": {},
   "outputs": [],
   "source": [
    "table = pd.concat(\n",
    "    [df_train[\"target\"].value_counts(),\n",
    "     df_train[\"Target\"].value_counts(normalize=True)], axis = 1\n",
    "\n",
    ")\n",
    "display.(table)\n",
    "print(f\"Sum: {len(df_train[\"target\"])}\")"
   ]
  },
  {
   "cell_type": "code",
   "execution_count": null,
   "metadata": {},
   "outputs": [],
   "source": [
    "df_train.hist()\n",
    "\n",
    "plt.show()"
   ]
  },
  {
   "cell_type": "code",
   "execution_count": null,
   "metadata": {},
   "outputs": [],
   "source": [
    "# 3.4 Perform univariate analysis on numerical variables using kde\n",
    "fig, ax = plt.subplots(1,2, figsize=(8,4))\n",
    "sns.kdeplot(data=df_train, x='height', ax=ax)\n",
    "ax.axvline(x=df_train['height'].mean(), color='k', linestyle='--')\n",
    "ax.axvline(x=df_train['height'].median(), color='g', linestyle='--')\n",
    "\n",
    "ax.grid(True)\n",
    "plt.show()"
   ]
  },
  {
   "cell_type": "code",
   "execution_count": null,
   "metadata": {},
   "outputs": [],
   "source": [
    "fig, ax = plt.subplot(figsize=(4,4))\n",
    "sns.countplot(data = df_train, y=\"target\", ax= ax)\n",
    "plt.show()"
   ]
  },
  {
   "cell_type": "code",
   "execution_count": null,
   "metadata": {},
   "outputs": [],
   "source": [
    "sns.pairplot(data= df_train, diag_kind=\"kde\", hue=\"target\")\n",
    "plt.show()"
   ]
  },
  {
   "cell_type": "code",
   "execution_count": 13,
   "metadata": {},
   "outputs": [],
   "source": [
    "# Step 4. Experiment with models\n",
    "# 4.1 Split features and reponse\n",
    "X_train = df_train.drop('target', axis=1).reset_index(drop=True) # Independent variable\n",
    "y_train = df_train['target'].reset_index(drop=True)\n",
    "X_test = df_test.drop('target', axis=1).reset_index(drop=True)\n",
    "y_test = df_test['target'].reset_index(drop=True) # Dependent variable"
   ]
  },
  {
   "cell_type": "code",
   "execution_count": null,
   "metadata": {},
   "outputs": [],
   "source": [
    "label_encoder = LabelEncoder()\n",
    "y_train_enc = label_encoder.fit_transform(y_train)\n",
    "y_test_enc = label_encoder.transform(y_test)"
   ]
  },
  {
   "cell_type": "code",
   "execution_count": null,
   "metadata": {},
   "outputs": [],
   "source": [
    "# 4.2 Simple model\n",
    "# 4.1 Create a naive model, by guessing the outcome, then evaluate\n",
    "y_naive = np.random.choice(\n",
    "    df_train['target'].unique().tolist(), size=len(df_train)\n",
    ")\n",
    "y_naive_enc = label_encoder.transform(y_naive)\n",
    "print(f'Accuracy: {accuracy_score(y_train_enc, y_naive_enc):.2f}')"
   ]
  },
  {
   "cell_type": "code",
   "execution_count": null,
   "metadata": {},
   "outputs": [],
   "source": [
    "df_train.groupby(\"target\", observed=False)[\"height\"].agg([\"mean\", \"std\"])"
   ]
  },
  {
   "cell_type": "code",
   "execution_count": null,
   "metadata": {},
   "outputs": [],
   "source": [
    "y_interval = (\n",
    "    df_train[\"height\"].apply(lambda x: \"Male\" if x >= 62 else \"Female\").tolist()\n",
    ")\n",
    "y_interval_enc = label_encoder.transform(y_interval)\n",
    "print(f'Accuracy: {accuracy_score(y_train_enc, y_interval_enc):.3f}')\n",
    "print(f'f1 score: {f1_score(y_train_enc, y_interval_enc):.3f}')"
   ]
  },
  {
   "cell_type": "code",
   "execution_count": null,
   "metadata": {},
   "outputs": [],
   "source": [
    "my_table = pd.DataFrame({\"cutoff\": [], \"accuaracy\":[]})\n",
    "for i in range(62,76):\n",
    "    y_temp = (\n",
    "         df_train[\"height\"].apply(lambda x: \"Male\" if x >= i else \"Female\").tolist()\n",
    "    )\n",
    "    y_temp_enc = label_encoder.transform(y_temp)\n",
    "    metric = round(accuracy_score(y_train_enc, y_interval_enc), 2)\n",
    "    new_row = pd.DataFrame({\"cutoff\": [i], \"accuaracy\":[metric]})\n",
    "    my_table = pd.concat([new_row, my_table])\n",
    "\n",
    "my_table.reset_index(drop=True)"
   ]
  },
  {
   "cell_type": "code",
   "execution_count": null,
   "metadata": {},
   "outputs": [],
   "source": [
    "y_cutoff =(\n",
    "    df_train[\"height\"].apply(lambda x : \"Male\" if x >= 64 else \"Female\").tolist()\n",
    ")\n",
    "\n",
    "pred = pd.DataFrame({\"pred\": y_cutoff})\n",
    "display(pd.crosstab(y_train, pred[\"pred\"]))\n",
    "display(pd.crosstab(y_train, pred[\"pred\"], normalize=\"index\"))"
   ]
  },
  {
   "cell_type": "code",
   "execution_count": null,
   "metadata": {},
   "outputs": [],
   "source": [
    "clf_log_reg = LogisticRegression(class_weight=\"balanced\")\n",
    "clf_log_reg.fit(X_train, y_train_enc)"
   ]
  },
  {
   "cell_type": "code",
   "execution_count": null,
   "metadata": {},
   "outputs": [],
   "source": [
    "y_pred = clf_log_reg.predict(X_test)"
   ]
  },
  {
   "cell_type": "code",
   "execution_count": null,
   "metadata": {},
   "outputs": [],
   "source": [
    "y_pred"
   ]
  },
  {
   "cell_type": "code",
   "execution_count": null,
   "metadata": {},
   "outputs": [],
   "source": [
    "print(f'Accuracy: {accuracy_score(y_test_enc, y_pred):.3f}')"
   ]
  },
  {
   "cell_type": "code",
   "execution_count": null,
   "metadata": {},
   "outputs": [],
   "source": [
    "pred = pd.DataFrame({\"pred\": y_pred})\n",
    "display(pd.crosstab(y_train, pred[\"pred\"]))\n",
    "display(pd.crosstab(y_train, pred[\"pred\"], normalize=\"index\"))"
   ]
  },
  {
   "cell_type": "code",
   "execution_count": 15,
   "metadata": {},
   "outputs": [],
   "source": [
    "reg_lin = LinearRegression()\n",
    "reg_lin.fit(X_train, y_train)\n",
    "y_pred = reg_lin.predict(X_test)"
   ]
  },
  {
   "cell_type": "code",
   "execution_count": null,
   "metadata": {},
   "outputs": [],
   "source": [
    "print(f\"MSE: {mean_squared_error(y_test, y_pred)}\") # mean squuared error\n",
    "print(f\"RMSE: {np.sqrt(mean_squared_error(y_test, y_pred))}\") \n",
    "print(f\"MAE: {mean_absolute_error(y_test, y_pred)}\") # mean absolute error\n",
    "print(f\"R2: {r2_score(y_test, y_pred)}\") "
   ]
  },
  {
   "cell_type": "code",
   "execution_count": null,
   "metadata": {},
   "outputs": [],
   "source": [
    "plt.scatter(x= y_test, y= y_pred, c='k')\n",
    "plt.plot([70,230], [70,230], c='r')\n",
    "plt.axis('equal')\n",
    "plt.xlabel('Real')\n",
    "plt.ylabel('Predicted')\n",
    "plt.show()"
   ]
  },
  {
   "cell_type": "code",
   "execution_count": null,
   "metadata": {},
   "outputs": [],
   "source": [
    "resid = y_test - y_pred\n",
    "plt.scatter(x= y_pred, y= resid)\n",
    "plt.axhline(0, linestyle= \"--\")\n",
    "plt.xlabel('fitted values')\n",
    "plt.ylabel('residuals')\n",
    "plt.show()"
   ]
  },
  {
   "cell_type": "code",
   "execution_count": null,
   "metadata": {},
   "outputs": [],
   "source": [
    "# Model\n",
    "print(f\"mort = {reg_lin.intercept_:.1f} {reg_lin.coef_[0]:1f}*lat\")"
   ]
  },
  {
   "cell_type": "code",
   "execution_count": null,
   "metadata": {},
   "outputs": [],
   "source": [
    "# Step 1. Load data and get a first view -------------------------------\n",
    "# 1.1 Read from source and get basic info\n",
    "df_raw_1 = pd.read_csv('skincancer.csv')\n",
    "df_raw_1.info()"
   ]
  },
  {
   "cell_type": "code",
   "execution_count": 21,
   "metadata": {},
   "outputs": [],
   "source": [
    "# Step 2. Prepara the dataset for analysis\n",
    "# 2.1 Make transformations using a pipeline\n",
    "df_interim_1 = (\n",
    "    df_raw_1\n",
    "    .copy()\n",
    "    .set_axis(\n",
    "        df_raw_1.columns.str.replace(' ','_')\n",
    "        .str.replace(r'\\W','',regex=True)\n",
    "        .str.lower()\n",
    "        .str.slice(0,40), axis=1\n",
    "    )\n",
    "    .rename(columns={'mort':'target'})\n",
    "    .astype({'target': np.float16})\n",
    "    .iloc[:,1:]\n",
    ")"
   ]
  },
  {
   "cell_type": "code",
   "execution_count": null,
   "metadata": {},
   "outputs": [],
   "source": [
    "# 2.2 Create the final dataset with the target in front, show result\n",
    "df_1 = (\n",
    "    df_interim_1\n",
    "    .copy()\n",
    "    .reindex(\n",
    "        columns=(\n",
    "            ['target'] + \n",
    "            [c for c in df_interim_1.columns.to_list() if c not in ['target']]\n",
    "        )\n",
    "    )\n",
    ")\n",
    "df_1.info()"
   ]
  },
  {
   "cell_type": "code",
   "execution_count": null,
   "metadata": {},
   "outputs": [],
   "source": [
    "# Step 3. Perform EDA\n",
    "# 3.1 Split the dataset\n",
    "df_trai, df_tes = train_test_split(df_1, \n",
    "                                     random_state=2024, \n",
    "                                     test_size=0.2)\n",
    "df_trai = df_trai.reset_index(drop=True).sort_values(by='target')\n",
    "df_trai.info()"
   ]
  },
  {
   "cell_type": "code",
   "execution_count": null,
   "metadata": {},
   "outputs": [],
   "source": [
    "display(df_1.describe().T)"
   ]
  },
  {
   "cell_type": "code",
   "execution_count": null,
   "metadata": {},
   "outputs": [],
   "source": [
    "df_trai.hist()\n",
    "plt.show()"
   ]
  },
  {
   "cell_type": "code",
   "execution_count": null,
   "metadata": {},
   "outputs": [],
   "source": [
    "sns.pairplot(data= df_trai, diag_kind=\"kde\")\n",
    "plt.show()"
   ]
  },
  {
   "cell_type": "code",
   "execution_count": 27,
   "metadata": {},
   "outputs": [],
   "source": [
    "# Step 4. Experiment with models\n",
    "# 4.1 Split features and reponse\n",
    "X_trai = df_trai.drop('target', axis=1).reset_index(drop=True) # Independent variable\n",
    "y_trai = df_trai['target'].reset_index(drop=True)\n",
    "X_tes = df_tes.drop('target', axis=1).reset_index(drop=True)\n",
    "y_tes = df_tes['target'].reset_index(drop=True) # Dependent variable"
   ]
  },
  {
   "cell_type": "code",
   "execution_count": 28,
   "metadata": {},
   "outputs": [],
   "source": [
    "reg_mlin = LinearRegression()\n",
    "reg_mlin.fit(X_trai, y_trai)\n",
    "y_mpred = reg_mlin.predict(X_tes)"
   ]
  },
  {
   "cell_type": "code",
   "execution_count": null,
   "metadata": {},
   "outputs": [],
   "source": [
    "print(f\"MSE: {mean_squared_error(y_tes, y_mpred)}\") # mean squuared error\n",
    "print(f\"RMSE: {np.sqrt(mean_squared_error(y_tes, y_mpred))}\") \n",
    "print(f\"MAE: {mean_absolute_error(y_tes, y_mpred)}\") # mean absolute error\n",
    "print(f\"R2: {r2_score(y_tes, y_mpred)}\") \n",
    "\n",
    "# R2 explains what percentage of the predicted actual variance"
   ]
  },
  {
   "cell_type": "code",
   "execution_count": null,
   "metadata": {},
   "outputs": [],
   "source": [
    "# Explain model\n",
    "importance = permutation_importance(reg_mlin, X_trai, y_trai)\n",
    "importance_df = pd.DataFrame(importance.importances.T, columns= X_trai.columns)\n",
    "ax = importance_df.plot.box(vert = False)\n",
    "ax.axvline(x= 0, color= 'k', linestyle= '--')\n",
    "ax.set_title('Permutation importance (train set)')\n",
    "ax.grid(True)\n",
    "plt.show()"
   ]
  },
  {
   "cell_type": "code",
   "execution_count": null,
   "metadata": {},
   "outputs": [],
   "source": [
    "# Model\n",
    "print(f\"mort = {reg_mlin.intercept_:.1f} {reg_mlin.coef_[0]:1f}*lat +{reg_mlin.coef_[1]:1f}*ocean {reg_mlin.coef_[2]:1f}*long\")"
   ]
  }
 ],
 "metadata": {
  "kernelspec": {
   "display_name": ".venv",
   "language": "python",
   "name": "python3"
  },
  "language_info": {
   "codemirror_mode": {
    "name": "ipython",
    "version": 3
   },
   "file_extension": ".py",
   "mimetype": "text/x-python",
   "name": "python",
   "nbconvert_exporter": "python",
   "pygments_lexer": "ipython3",
   "version": "3.12.1"
  }
 },
 "nbformat": 4,
 "nbformat_minor": 2
}
